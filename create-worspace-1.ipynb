{
 "cells": [
  {
   "cell_type": "code",
   "execution_count": 12,
   "metadata": {},
   "outputs": [],
   "source": [
    "# Imports\n",
    "from azure.common.credentials import ServicePrincipalCredentials\n",
    "from azure.identity import ClientSecretCredential\n",
    "from azure.mgmt.resource import ResourceManagementClient\n",
    "from azure.mgmt.network import NetworkManagementClient\n",
    "from azure.mgmt.storage import StorageManagementClient\n",
    "from azureml.core import Workspace\n",
    "# from azure.ai.ml.entities import Workspace\n",
    "\n",
    "import yaml"
   ]
  },
  {
   "cell_type": "code",
   "execution_count": 14,
   "metadata": {},
   "outputs": [],
   "source": []
  },
  {
   "cell_type": "code",
   "execution_count": 3,
   "metadata": {},
   "outputs": [],
   "source": [
    "with open(\"config.yaml\", \"r\") as f:\n",
    "    config = yaml.safe_load(f)\n",
    "\n",
    "subscription_id = config.get(\"subscription_id\")\n",
    "client_id = config.get(\"client_id\")\n",
    "secret = config.get(\"secret\")\n",
    "tenant_id = config.get(\"tenant_id\")\n"
   ]
  },
  {
   "cell_type": "code",
   "execution_count": 22,
   "metadata": {},
   "outputs": [],
   "source": [
    "credential = ClientSecretCredential(\n",
    "    client_id=client_id,\n",
    "    client_secret=secret,\n",
    "    tenant_id=tenant_id\n",
    ")\n",
    "\n",
    "from azureml.core.authentication import ServicePrincipalAuthentication\n",
    "\n",
    "credential_aml = ServicePrincipalAuthentication(\n",
    "    tenant_id=tenant_id,\n",
    "    service_principal_id=client_id,\n",
    "    service_principal_password=secret)\n",
    "\n",
    "# credential_sp = ServicePrincipalCredentials(\n",
    "#     client_id=client_id,\n",
    "#     secret=secret,\n",
    "#     tenant=tenant_id\n",
    "# )"
   ]
  },
  {
   "cell_type": "code",
   "execution_count": 15,
   "metadata": {},
   "outputs": [],
   "source": []
  },
  {
   "cell_type": "code",
   "execution_count": 5,
   "metadata": {},
   "outputs": [],
   "source": [
    "# Configuration Parameters\n",
    "resource_group_name = 'AI_IC_NAM_GenAI-Template-1'\n",
    "location = 'eastus'\n",
    "vnet_name = 'MyVNet'\n",
    "subnet_name = 'MySubnet'\n",
    "aml_workspace_name = 'genai-test-workspace'\n",
    "storage_account_name = 'genaitemplate1storage'\n",
    "openai_account_name = 'genai-test-openai'\n",
    "\n",
    "resource_client = ResourceManagementClient(credential, subscription_id)\n",
    "network_client = NetworkManagementClient(credential, subscription_id)\n",
    "storage_client = StorageManagementClient(credential, subscription_id)"
   ]
  },
  {
   "cell_type": "code",
   "execution_count": 6,
   "metadata": {},
   "outputs": [
    {
     "data": {
      "text/plain": [
       "<azure.mgmt.resource.resources.v2022_09_01.models._models_py3.ResourceGroup at 0x18a0be74850>"
      ]
     },
     "execution_count": 6,
     "metadata": {},
     "output_type": "execute_result"
    }
   ],
   "source": [
    "# Create Resource Group\n",
    "resource_client.resource_groups.create_or_update(resource_group_name, {'location': location})"
   ]
  },
  {
   "cell_type": "code",
   "execution_count": 7,
   "metadata": {},
   "outputs": [
    {
     "data": {
      "text/plain": [
       "<azure.core.polling._poller.LROPoller at 0x18a0be7f290>"
      ]
     },
     "execution_count": 7,
     "metadata": {},
     "output_type": "execute_result"
    }
   ],
   "source": [
    "# Create Virtual Network and Subnet\n",
    "vnet_params = {\n",
    "    'location': location,\n",
    "    'address_space': {\n",
    "        'address_prefixes': ['10.0.0.0/16']\n",
    "    }\n",
    "}\n",
    "network_client.virtual_networks.begin_create_or_update(resource_group_name, vnet_name, vnet_params)"
   ]
  },
  {
   "cell_type": "code",
   "execution_count": 8,
   "metadata": {},
   "outputs": [
    {
     "data": {
      "text/plain": [
       "<azure.core.polling._poller.LROPoller at 0x18a0be8bf90>"
      ]
     },
     "execution_count": 8,
     "metadata": {},
     "output_type": "execute_result"
    }
   ],
   "source": [
    "subnet_params = {\n",
    "    'address_prefix': '10.0.0.0/24',\n",
    "    'service_endpoints': [{'service': 'Microsoft.CognitiveServices'}]\n",
    "}\n",
    "network_client.subnets.begin_create_or_update(resource_group_name, vnet_name, subnet_name, subnet_params)"
   ]
  },
  {
   "cell_type": "code",
   "execution_count": 9,
   "metadata": {},
   "outputs": [],
   "source": [
    "# Add Network Rule for Subnet\n",
    "subnet = network_client.subnets.get(resource_group_name, vnet_name, subnet_name)\n",
    "subnet_id = subnet.id"
   ]
  },
  {
   "cell_type": "code",
   "execution_count": 10,
   "metadata": {},
   "outputs": [
    {
     "data": {
      "text/plain": [
       "<azure.core.polling._poller.LROPoller at 0x18a09b53c50>"
      ]
     },
     "execution_count": 10,
     "metadata": {},
     "output_type": "execute_result"
    }
   ],
   "source": [
    "# Create Blob Storage\n",
    "storage_params = {\n",
    "    'sku': {'name': 'Standard_LRS'},\n",
    "    'kind': 'StorageV2',\n",
    "    'location': location,\n",
    "    'network_acls': {'default_action': 'Deny'}\n",
    "}\n",
    "storage_client.storage_accounts.begin_create(resource_group_name, storage_account_name, storage_params)"
   ]
  },
  {
   "cell_type": "code",
   "execution_count": 24,
   "metadata": {},
   "outputs": [
    {
     "ename": "TypeError",
     "evalue": "Workspace.create() got an unexpected keyword argument 'disable_public_network_access'",
     "output_type": "error",
     "traceback": [
      "\u001b[1;31m---------------------------------------------------------------------------\u001b[0m",
      "\u001b[1;31mTypeError\u001b[0m                                 Traceback (most recent call last)",
      "\u001b[1;32mc:\\Users\\james.guidry\\Desktop\\azure-genAI-workspace-mgmt\\create-worspace-1.ipynb Cell 12\u001b[0m line \u001b[0;36m2\n\u001b[0;32m      <a href='vscode-notebook-cell:/c%3A/Users/james.guidry/Desktop/azure-genAI-workspace-mgmt/create-worspace-1.ipynb#X11sZmlsZQ%3D%3D?line=0'>1</a>\u001b[0m \u001b[39m# Create AML Workspace with VNet\u001b[39;00m\n\u001b[1;32m----> <a href='vscode-notebook-cell:/c%3A/Users/james.guidry/Desktop/azure-genAI-workspace-mgmt/create-worspace-1.ipynb#X11sZmlsZQ%3D%3D?line=1'>2</a>\u001b[0m aml_workspace \u001b[39m=\u001b[39m Workspace\u001b[39m.\u001b[39;49mcreate(\n\u001b[0;32m      <a href='vscode-notebook-cell:/c%3A/Users/james.guidry/Desktop/azure-genAI-workspace-mgmt/create-worspace-1.ipynb#X11sZmlsZQ%3D%3D?line=2'>3</a>\u001b[0m     name\u001b[39m=\u001b[39;49maml_workspace_name,\n\u001b[0;32m      <a href='vscode-notebook-cell:/c%3A/Users/james.guidry/Desktop/azure-genAI-workspace-mgmt/create-worspace-1.ipynb#X11sZmlsZQ%3D%3D?line=3'>4</a>\u001b[0m     auth\u001b[39m=\u001b[39;49mcredential_aml,\n\u001b[0;32m      <a href='vscode-notebook-cell:/c%3A/Users/james.guidry/Desktop/azure-genAI-workspace-mgmt/create-worspace-1.ipynb#X11sZmlsZQ%3D%3D?line=4'>5</a>\u001b[0m     subscription_id\u001b[39m=\u001b[39;49msubscription_id,\n\u001b[0;32m      <a href='vscode-notebook-cell:/c%3A/Users/james.guidry/Desktop/azure-genAI-workspace-mgmt/create-worspace-1.ipynb#X11sZmlsZQ%3D%3D?line=5'>6</a>\u001b[0m     resource_group\u001b[39m=\u001b[39;49mresource_group_name,\n\u001b[0;32m      <a href='vscode-notebook-cell:/c%3A/Users/james.guidry/Desktop/azure-genAI-workspace-mgmt/create-worspace-1.ipynb#X11sZmlsZQ%3D%3D?line=6'>7</a>\u001b[0m     location\u001b[39m=\u001b[39;49mlocation,\n\u001b[0;32m      <a href='vscode-notebook-cell:/c%3A/Users/james.guidry/Desktop/azure-genAI-workspace-mgmt/create-worspace-1.ipynb#X11sZmlsZQ%3D%3D?line=7'>8</a>\u001b[0m     create_resource_group\u001b[39m=\u001b[39;49m\u001b[39mFalse\u001b[39;49;00m,\n\u001b[0;32m      <a href='vscode-notebook-cell:/c%3A/Users/james.guidry/Desktop/azure-genAI-workspace-mgmt/create-worspace-1.ipynb#X11sZmlsZQ%3D%3D?line=8'>9</a>\u001b[0m     exist_ok\u001b[39m=\u001b[39;49m\u001b[39mTrue\u001b[39;49;00m,\n\u001b[0;32m     <a href='vscode-notebook-cell:/c%3A/Users/james.guidry/Desktop/azure-genAI-workspace-mgmt/create-worspace-1.ipynb#X11sZmlsZQ%3D%3D?line=9'>10</a>\u001b[0m     friendly_name\u001b[39m=\u001b[39;49maml_workspace_name,\n\u001b[0;32m     <a href='vscode-notebook-cell:/c%3A/Users/james.guidry/Desktop/azure-genAI-workspace-mgmt/create-worspace-1.ipynb#X11sZmlsZQ%3D%3D?line=10'>11</a>\u001b[0m     disable_public_network_access\u001b[39m=\u001b[39;49m\u001b[39mTrue\u001b[39;49;00m  \u001b[39m# Disable public network\u001b[39;49;00m\n\u001b[0;32m     <a href='vscode-notebook-cell:/c%3A/Users/james.guidry/Desktop/azure-genAI-workspace-mgmt/create-worspace-1.ipynb#X11sZmlsZQ%3D%3D?line=11'>12</a>\u001b[0m     \u001b[39m# private_endpoint_config={\u001b[39;49;00m\n\u001b[0;32m     <a href='vscode-notebook-cell:/c%3A/Users/james.guidry/Desktop/azure-genAI-workspace-mgmt/create-worspace-1.ipynb#X11sZmlsZQ%3D%3D?line=12'>13</a>\u001b[0m     \u001b[39m#     'name': 'MyPrivateEndpoint',\u001b[39;49;00m\n\u001b[0;32m     <a href='vscode-notebook-cell:/c%3A/Users/james.guidry/Desktop/azure-genAI-workspace-mgmt/create-worspace-1.ipynb#X11sZmlsZQ%3D%3D?line=13'>14</a>\u001b[0m     \u001b[39m#     'subnet': {\u001b[39;49;00m\n\u001b[0;32m     <a href='vscode-notebook-cell:/c%3A/Users/james.guidry/Desktop/azure-genAI-workspace-mgmt/create-worspace-1.ipynb#X11sZmlsZQ%3D%3D?line=14'>15</a>\u001b[0m     \u001b[39m#         'id': subnet_id\u001b[39;49;00m\n\u001b[0;32m     <a href='vscode-notebook-cell:/c%3A/Users/james.guidry/Desktop/azure-genAI-workspace-mgmt/create-worspace-1.ipynb#X11sZmlsZQ%3D%3D?line=15'>16</a>\u001b[0m     \u001b[39m#     }\u001b[39;49;00m\n\u001b[0;32m     <a href='vscode-notebook-cell:/c%3A/Users/james.guidry/Desktop/azure-genAI-workspace-mgmt/create-worspace-1.ipynb#X11sZmlsZQ%3D%3D?line=16'>17</a>\u001b[0m     \u001b[39m# }\u001b[39;49;00m\n\u001b[0;32m     <a href='vscode-notebook-cell:/c%3A/Users/james.guidry/Desktop/azure-genAI-workspace-mgmt/create-worspace-1.ipynb#X11sZmlsZQ%3D%3D?line=17'>18</a>\u001b[0m )\n",
      "\u001b[1;31mTypeError\u001b[0m: Workspace.create() got an unexpected keyword argument 'disable_public_network_access'"
     ]
    }
   ],
   "source": [
    "\n",
    "# Create AML Workspace with VNet\n",
    "aml_workspace = Workspace.create(\n",
    "    name=aml_workspace_name,\n",
    "    auth=credential_aml,\n",
    "    subscription_id=subscription_id,\n",
    "    resource_group=resource_group_name,\n",
    "    location=location,\n",
    "    create_resource_group=False,\n",
    "    exist_ok=True,\n",
    "    friendly_name=aml_workspace_name,\n",
    "    # disable_public_network_access=True  # Disable public network\n",
    "    # private_endpoint_config={\n",
    "    #     'name': 'MyPrivateEndpoint',\n",
    "    #     'subnet': {\n",
    "    #         'id': subnet_id\n",
    "    #     }\n",
    "    # }\n",
    ")\n"
   ]
  },
  {
   "cell_type": "code",
   "execution_count": 23,
   "metadata": {},
   "outputs": [],
   "source": [
    "workspace = Workspace(workspace_name=aml_workspace_name,\n",
    "                      subscription_id=subscription_id,\n",
    "                      resource_group=resource_group_name,\n",
    "                      auth=credential_aml)\n",
    "\n",
    "\n",
    "\n"
   ]
  },
  {
   "cell_type": "code",
   "execution_count": null,
   "metadata": {},
   "outputs": [],
   "source": [
    "allow_public_access_when_behind_vnet=None\n"
   ]
  },
  {
   "cell_type": "code",
   "execution_count": 18,
   "metadata": {},
   "outputs": [],
   "source": [
    "from azureml.core import ComputeTarget\n",
    "# aml_compute = ComputeTarget(workspace=workspace, name='<AML Compute Name>')\n"
   ]
  },
  {
   "cell_type": "code",
   "execution_count": null,
   "metadata": {},
   "outputs": [],
   "source": []
  },
  {
   "cell_type": "code",
   "execution_count": null,
   "metadata": {},
   "outputs": [],
   "source": [
    "# Create AML Compute Cluster within VNet\n",
    "try:\n",
    "    compute_target = ComputeTarget(workspace=aml_workspace, name='MyAmlCompute')\n",
    "    print('Found existing cluster.')\n",
    "except ComputeTargetException:\n",
    "    config = AmlCompute.provisioning_configuration(vm_size='STANDARD_DS2_V2',\n",
    "                                                   min_nodes=0,\n",
    "                                                   max_nodes=2,\n",
    "                                                   vnet_resourcegroup_name=resource_group_name,"
   ]
  },
  {
   "cell_type": "code",
   "execution_count": null,
   "metadata": {},
   "outputs": [],
   "source": [
    "\n",
    "# Create AML Workspace\n",
    "aml_workspace = Workspace.create(\n",
    "    name=aml_workspace_name,\n",
    "    subscription_id='<subscriptionID>',\n",
    "    resource_group=resource_group_name,\n",
    "    location=location,\n",
    "    create_resource_group=False,\n",
    "    exist_ok=True\n",
    ")\n",
    "\n",
    "\n",
    "\n",
    "\n",
    "\n",
    "\n",
    "\n",
    "# Create OpenAI Account (Emulate since OpenAI specific SDK not available)\n",
    "# Replace with your specific logic using Azure OpenAI commands or SDK\n",
    "openai_params = {\n",
    "    'sku': {'name': 'S0'},\n",
    "    'kind': 'OpenAI',\n",
    "    'location': location,\n",
    "    'network_acls': {'default_action': 'Deny'}\n",
    "}\n",
    "# (Replace with real command to create OpenAI account)\n",
    "\n",
    "# Add Network Rule for Subnet\n",
    "subnet = network_client.subnets.get(resource_group_name, vnet_name, subnet_name)\n",
    "subnet_id = subnet.id\n",
    "# (Replace with real command to add network rule for OpenAI account using subnet_id)\n",
    "\n",
    "print(\"Setup complete.\")\n"
   ]
  }
 ],
 "metadata": {
  "kernelspec": {
   "display_name": "py_venv",
   "language": "python",
   "name": "python3"
  },
  "language_info": {
   "codemirror_mode": {
    "name": "ipython",
    "version": 3
   },
   "file_extension": ".py",
   "mimetype": "text/x-python",
   "name": "python",
   "nbconvert_exporter": "python",
   "pygments_lexer": "ipython3",
   "version": "3.11.4"
  },
  "orig_nbformat": 4
 },
 "nbformat": 4,
 "nbformat_minor": 2
}

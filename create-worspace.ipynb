{
 "cells": [
  {
   "cell_type": "code",
   "execution_count": 3,
   "metadata": {},
   "outputs": [],
   "source": [
    "# Imports\n",
    "from azure.common.credentials import ServicePrincipalCredentials\n",
    "from azure.identity import ClientSecretCredential\n",
    "from azure.mgmt.resource import ResourceManagementClient\n",
    "from azure.mgmt.network import NetworkManagementClient\n",
    "from azure.mgmt.storage import StorageManagementClient\n",
    "from azureml.core import Workspace\n",
    "# from azure.ai.ml.entities import Workspace\n",
    "import yaml"
   ]
  },
  {
   "cell_type": "code",
   "execution_count": 4,
   "metadata": {},
   "outputs": [],
   "source": [
    "with open(\"config.yaml\", \"r\") as f:\n",
    "    config = yaml.safe_load(f)\n",
    "\n",
    "subscription_id = config.get(\"subscription_id\")\n",
    "client_id = config.get(\"client_id\")\n",
    "secret = config.get(\"secret\")\n",
    "tenant_id = config.get(\"tenant_id\")\n"
   ]
  },
  {
   "cell_type": "code",
   "execution_count": 5,
   "metadata": {},
   "outputs": [],
   "source": [
    "credential = ClientSecretCredential(\n",
    "    client_id=client_id,\n",
    "    client_secret=secret,\n",
    "    tenant_id=tenant_id\n",
    ")\n",
    "\n",
    "from azureml.core.authentication import ServicePrincipalAuthentication\n",
    "\n",
    "credential_aml = ServicePrincipalAuthentication(\n",
    "    tenant_id=tenant_id,\n",
    "    service_principal_id=client_id,\n",
    "    service_principal_password=secret)\n",
    "\n",
    "# credential_sp = ServicePrincipalCredentials(\n",
    "#     client_id=client_id,\n",
    "#     secret=secret,\n",
    "#     tenant=tenant_id\n",
    "# )"
   ]
  },
  {
   "cell_type": "code",
   "execution_count": 6,
   "metadata": {},
   "outputs": [],
   "source": [
    "# Configuration Parameters\n",
    "resource_group_name = 'AI_IC_NAM_GenAI-Template-1'\n",
    "location = 'eastus'\n",
    "vnet_name = 'MyVNet'\n",
    "subnet_name = 'MySubnet'\n",
    "aml_workspace_name = 'genai-test-workspace'\n",
    "storage_account_name = 'genaitemplate1storage'\n",
    "openai_account_name = 'genai-test-openai'\n",
    "\n",
    "resource_client = ResourceManagementClient(credential, subscription_id)\n",
    "network_client = NetworkManagementClient(credential, subscription_id)\n",
    "storage_client = StorageManagementClient(credential, subscription_id)"
   ]
  },
  {
   "cell_type": "code",
   "execution_count": 7,
   "metadata": {},
   "outputs": [
    {
     "data": {
      "text/plain": [
       "<azure.mgmt.resource.resources.v2022_09_01.models._models_py3.ResourceGroup at 0x171d84bec90>"
      ]
     },
     "execution_count": 7,
     "metadata": {},
     "output_type": "execute_result"
    }
   ],
   "source": [
    "# Create Resource Group\n",
    "resource_client.resource_groups.create_or_update(resource_group_name, {'location': location})"
   ]
  },
  {
   "cell_type": "code",
   "execution_count": 7,
   "metadata": {},
   "outputs": [
    {
     "data": {
      "text/plain": [
       "<azure.core.polling._poller.LROPoller at 0x18a0be7f290>"
      ]
     },
     "execution_count": 7,
     "metadata": {},
     "output_type": "execute_result"
    }
   ],
   "source": [
    "# Create Virtual Network and Subnet\n",
    "vnet_params = {\n",
    "    'location': location,\n",
    "    'address_space': {\n",
    "        'address_prefixes': ['10.0.0.0/16']\n",
    "    }\n",
    "}\n",
    "network_client.virtual_networks.begin_create_or_update(resource_group_name, vnet_name, vnet_params)"
   ]
  },
  {
   "cell_type": "code",
   "execution_count": 8,
   "metadata": {},
   "outputs": [
    {
     "data": {
      "text/plain": [
       "<azure.core.polling._poller.LROPoller at 0x18a0be8bf90>"
      ]
     },
     "execution_count": 8,
     "metadata": {},
     "output_type": "execute_result"
    }
   ],
   "source": [
    "subnet_params = {\n",
    "    'address_prefix': '10.0.0.0/24',\n",
    "    'service_endpoints': [{'service': 'Microsoft.CognitiveServices'}]\n",
    "}\n",
    "network_client.subnets.begin_create_or_update(resource_group_name, vnet_name, subnet_name, subnet_params)"
   ]
  },
  {
   "cell_type": "code",
   "execution_count": 9,
   "metadata": {},
   "outputs": [],
   "source": [
    "# Add Network Rule for Subnet\n",
    "subnet = network_client.subnets.get(resource_group_name, vnet_name, subnet_name)\n",
    "subnet_id = subnet.id"
   ]
  },
  {
   "cell_type": "code",
   "execution_count": 10,
   "metadata": {},
   "outputs": [
    {
     "data": {
      "text/plain": [
       "<azure.core.polling._poller.LROPoller at 0x18a09b53c50>"
      ]
     },
     "execution_count": 10,
     "metadata": {},
     "output_type": "execute_result"
    }
   ],
   "source": [
    "# Create Blob Storage\n",
    "storage_params = {\n",
    "    'sku': {'name': 'Standard_LRS'},\n",
    "    'kind': 'StorageV2',\n",
    "    'location': location,\n",
    "    'network_acls': {'default_action': 'Deny'}\n",
    "}\n",
    "storage_client.storage_accounts.begin_create(resource_group_name, storage_account_name, storage_params)"
   ]
  },
  {
   "cell_type": "code",
   "execution_count": 8,
   "metadata": {},
   "outputs": [],
   "source": [
    "\n",
    "# Create AML Workspace with VNet\n",
    "aml_workspace = Workspace.create(\n",
    "    name=aml_workspace_name,\n",
    "    auth=credential_aml,\n",
    "    subscription_id=subscription_id,\n",
    "    resource_group=resource_group_name,\n",
    "    location=location,\n",
    "    create_resource_group=False,\n",
    "    exist_ok=True,\n",
    "    friendly_name=aml_workspace_name,\n",
    ")\n"
   ]
  }
 ],
 "metadata": {
  "kernelspec": {
   "display_name": "py_venv",
   "language": "python",
   "name": "python3"
  },
  "language_info": {
   "codemirror_mode": {
    "name": "ipython",
    "version": 3
   },
   "file_extension": ".py",
   "mimetype": "text/x-python",
   "name": "python",
   "nbconvert_exporter": "python",
   "pygments_lexer": "ipython3",
   "version": "3.11.4"
  },
  "orig_nbformat": 4
 },
 "nbformat": 4,
 "nbformat_minor": 2
}

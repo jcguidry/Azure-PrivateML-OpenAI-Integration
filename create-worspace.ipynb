{
 "cells": [
  {
   "cell_type": "code",
   "execution_count": 16,
   "metadata": {},
   "outputs": [],
   "source": [
    "# Imports\n",
    "from azure.common.credentials import ServicePrincipalCredentials\n",
    "from azure.identity import ClientSecretCredential\n",
    "from azure.mgmt.resource import ResourceManagementClient\n",
    "from azure.mgmt.network import NetworkManagementClient\n",
    "from azure.mgmt.storage import StorageManagementClient\n",
    "from azureml.core import Workspace\n",
    "# from azure.ai.ml.entities import Workspace\n",
    "import yaml"
   ]
  },
  {
   "cell_type": "code",
   "execution_count": 3,
   "metadata": {},
   "outputs": [],
   "source": [
    "with open(\"config.yaml\", \"r\") as f:\n",
    "    config = yaml.safe_load(f)\n",
    "\n",
    "subscription_id = config.get(\"subscription_id\")\n",
    "client_id = config.get(\"client_id\")\n",
    "secret = config.get(\"secret\")\n",
    "tenant_id = config.get(\"tenant_id\")\n"
   ]
  },
  {
   "cell_type": "code",
   "execution_count": 4,
   "metadata": {},
   "outputs": [],
   "source": [
    "credential = ClientSecretCredential(\n",
    "    client_id=client_id,\n",
    "    client_secret=secret,\n",
    "    tenant_id=tenant_id\n",
    ")\n",
    "\n",
    "from azureml.core.authentication import ServicePrincipalAuthentication\n",
    "\n",
    "credential_aml = ServicePrincipalAuthentication(\n",
    "    tenant_id=tenant_id,\n",
    "    service_principal_id=client_id,\n",
    "    service_principal_password=secret)\n",
    "\n",
    "# credential_sp = ServicePrincipalCredentials(\n",
    "#     client_id=client_id,\n",
    "#     secret=secret,\n",
    "#     tenant=tenant_id\n",
    "# )"
   ]
  },
  {
   "cell_type": "code",
   "execution_count": 5,
   "metadata": {},
   "outputs": [],
   "source": [
    "# Configuration Parameters\n",
    "resource_group_name = 'AI_IC_NAM_GenAI-Template-2'\n",
    "location = 'eastus'\n",
    "vnet_name = 'MyVNet'\n",
    "subnet_name = 'MySubnet'\n",
    "aml_workspace_name = 'genai-test-workspace'\n",
    "storage_account_name = 'genaitemplate1storage'\n",
    "openai_account_name = 'genai-test-openai'\n",
    "\n",
    "resource_client = ResourceManagementClient(credential, subscription_id)\n",
    "network_client = NetworkManagementClient(credential, subscription_id)\n",
    "storage_client = StorageManagementClient(credential, subscription_id)"
   ]
  },
  {
   "cell_type": "code",
   "execution_count": 6,
   "metadata": {},
   "outputs": [
    {
     "data": {
      "text/plain": [
       "<azure.mgmt.resource.resources.v2022_09_01.models._models_py3.ResourceGroup at 0x22dc1bfff10>"
      ]
     },
     "execution_count": 6,
     "metadata": {},
     "output_type": "execute_result"
    }
   ],
   "source": [
    "# Create Resource Group\n",
    "resource_client.resource_groups.create_or_update(resource_group_name, {'location': location})"
   ]
  },
  {
   "cell_type": "code",
   "execution_count": 7,
   "metadata": {},
   "outputs": [
    {
     "data": {
      "text/plain": [
       "<azure.core.polling._poller.LROPoller at 0x22dc1e4e7d0>"
      ]
     },
     "execution_count": 7,
     "metadata": {},
     "output_type": "execute_result"
    }
   ],
   "source": [
    "# Create Virtual Network and Subnet\n",
    "vnet_params = {\n",
    "    'location': location,\n",
    "    'address_space': {\n",
    "        'address_prefixes': ['10.0.0.0/16']\n",
    "    }\n",
    "}\n",
    "network_client.virtual_networks.begin_create_or_update(resource_group_name, vnet_name, vnet_params)\n",
    "\n",
    "subnet_params = {\n",
    "    'address_prefix': '10.0.0.0/24',\n",
    "    'service_endpoints': [{'service': 'Microsoft.CognitiveServices'}]\n",
    "}\n",
    "network_client.subnets.begin_create_or_update(resource_group_name, vnet_name, subnet_name, subnet_params)\n",
    "\n",
    "# Add Network Rule for Subnet\n",
    "subnet = network_client.subnets.get(resource_group_name, vnet_name, subnet_name)\n",
    "subnet_id = subnet.id"
   ]
  },
  {
   "cell_type": "markdown",
   "metadata": {},
   "source": [
    "# Work in Progress"
   ]
  },
  {
   "cell_type": "code",
   "execution_count": 9,
   "metadata": {},
   "outputs": [],
   "source": []
  },
  {
   "cell_type": "code",
   "execution_count": null,
   "metadata": {},
   "outputs": [],
   "source": [
    "from azure.identity import DefaultAzureCredential\n",
    "from azure.mgmt.network import NetworkManagementClient\n",
    "\n",
    "subscription_id = \"your-subscription-id\"\n",
    "resource_group = \"your-resource-group\"\n",
    "vnet_name = \"your-vnet-name\"\n",
    "nsg_name = \"your-nsg-name\"\n",
    "\n",
    "# Authenticate\n",
    "credential = DefaultAzureCredential()\n",
    "network_client = NetworkManagementClient(credential, subscription_id)\n",
    "\n",
    "# Create NSG\n",
    "nsg_params = {\n",
    "    \"location\": \"your-location\",\n",
    "}\n",
    "network_client.network_security_groups.begin_create_or_update(resource_group, nsg_name, nsg_params).result()\n",
    "\n",
    "# Link NSG to VNet\n",
    "subnet = network_client.subnets.begin_get(resource_group, vnet_name, \"your-subnet-name\").result()\n",
    "subnet.network_security_group = {\n",
    "    'id': f\"/subscriptions/{subscription_id}/resourceGroups/{resource_group}/providers/Microsoft.Network/networkSecurityGroups/{nsg_name}\"\n",
    "}\n",
    "network_client.subnets.begin_create_or_update(resource_group, vnet_name, \"your-subnet-name\", subnet).result()\n",
    "\n",
    "# Update inbound rules to allow specific traffic (e.g., SSH port 22)\n",
    "security_rule = {\n",
    "    \"name\": \"Allow_SSH\",\n",
    "    \"protocol\": \"Tcp\",\n",
    "    \"source_port_range\": \"*\",\n",
    "    \"destination_port_range\": \"22\",\n",
    "    \"source_address_prefix\": \"*\",\n",
    "    \"destination_address_prefix\": \"*\",\n",
    "    \"access\": \"Allow\",\n",
    "    \"priority\": 100,\n",
    "    \"direction\": \"Inbound\",\n",
    "}\n",
    "network_client.security_rules.begin_create_or_update(resource_group, nsg_name, \"Allow_SSH\", security_rule).result()\n",
    "\n",
    "# Update outbound rules to deny all\n",
    "security_rule = {\n",
    "    \"name\": \"Deny_All_Outbound\",\n",
    "    \"protocol\": \"*\",\n",
    "    \"source_port_range\": \"*\",\n",
    "    \"destination_port_range\": \"*\",\n",
    "    \"source_address_prefix\": \"*\",\n",
    "    \"destination_address_prefix\": \"*\",\n",
    "    \"access\": \"Deny\",\n",
    "    \"priority\": 200,\n",
    "    \"direction\": \"Outbound\",\n",
    "}\n",
    "network_client.security_rules.begin_create_or_update(resource_group, nsg_name, \"Deny_All_Outbound\", security_rule).result()\n"
   ]
  },
  {
   "cell_type": "code",
   "execution_count": 10,
   "metadata": {},
   "outputs": [
    {
     "data": {
      "text/plain": [
       "<azure.core.polling._poller.LROPoller at 0x22dc2fa9590>"
      ]
     },
     "execution_count": 10,
     "metadata": {},
     "output_type": "execute_result"
    }
   ],
   "source": [
    "# Create Blob Storage\n",
    "storage_params = {\n",
    "    'sku': {'name': 'Standard_LRS'},\n",
    "    'kind': 'StorageV2',\n",
    "    'location': location,\n",
    "    'network_acls': {'default_action': 'Deny'}\n",
    "}\n",
    "storage_client.storage_accounts.begin_create(resource_group_name, storage_account_name, storage_params)"
   ]
  },
  {
   "cell_type": "code",
   "execution_count": 13,
   "metadata": {},
   "outputs": [],
   "source": [
    "from azure.mgmt.network.models import PrivateEndpoint, PrivateLinkServiceConnection"
   ]
  },
  {
   "cell_type": "code",
   "execution_count": 15,
   "metadata": {},
   "outputs": [
    {
     "name": "stdout",
     "output_type": "stream",
     "text": [
      "Private endpoint created.\n"
     ]
    }
   ],
   "source": [
    "# Configuration Parameters for Private Endpoint\n",
    "private_endpoint_name = 'MyPrivateEndpoint'\n",
    "private_connection_resource_id = f\"/subscriptions/{subscription_id}/resourceGroups/{resource_group_name}/providers/Microsoft.MachineLearningServices/workspaces/{aml_workspace_name}\"\n",
    "group_id = 'amlworkspace'\n",
    "connection_name = 'workspace'\n",
    "\n",
    "# Create Private Endpoint\n",
    "private_endpoint_params = PrivateEndpoint(\n",
    "    location=location,\n",
    "    subnet={\n",
    "        'id': subnet_id\n",
    "    },\n",
    "    private_link_service_connections=[\n",
    "        PrivateLinkServiceConnection(\n",
    "            name=connection_name,\n",
    "            private_link_service_id=private_connection_resource_id,\n",
    "            group_ids=[group_id]\n",
    "        )\n",
    "    ]\n",
    ")\n",
    "\n",
    "network_client.private_endpoints.begin_create_or_update(\n",
    "    resource_group_name,\n",
    "    private_endpoint_name,\n",
    "    private_endpoint_params\n",
    ")\n",
    "\n",
    "print(\"Private endpoint created.\")\n"
   ]
  },
  {
   "cell_type": "code",
   "execution_count": null,
   "metadata": {},
   "outputs": [],
   "source": []
  },
  {
   "cell_type": "code",
   "execution_count": null,
   "metadata": {},
   "outputs": [],
   "source": []
  },
  {
   "cell_type": "code",
   "execution_count": 17,
   "metadata": {},
   "outputs": [],
   "source": [
    "from azure.ai.ml.entities import Workspace\n",
    "from azure.ai.ml import MLClient\n",
    "from azure.ai.ml.entities import (\n",
    "    Workspace,\n",
    "    ManagedNetwork,\n",
    "    IsolationMode,\n",
    "    ServiceTagDestination,\n",
    "    PrivateEndpointDestination,\n",
    "    FqdnDestination\n",
    ")\n",
    "from azure.identity import DefaultAzureCredential"
   ]
  },
  {
   "cell_type": "code",
   "execution_count": null,
   "metadata": {},
   "outputs": [],
   "source": []
  },
  {
   "cell_type": "code",
   "execution_count": null,
   "metadata": {},
   "outputs": [],
   "source": [
    "\n",
    "\n",
    "# Replace with the values for your Azure subscription and resource group.\n",
    "subscription_id = \"<SUBSCRIPTION_ID>\"\n",
    "resource_group = \"<RESOURCE_GROUP>\"\n",
    "\n",
    "# get a handle to the subscription\n",
    "ml_client = MLClient(DefaultAzureCredential(), subscription_id, resource_group)"
   ]
  },
  {
   "cell_type": "code",
   "execution_count": null,
   "metadata": {},
   "outputs": [],
   "source": [
    "# # Creating a unique workspace name with current datetime to avoid conflicts\n",
    "# from azure.ai.ml.entities import Workspace\n",
    "# import datetime\n",
    "\n",
    "# basic_workspace_name = \"mlw-basic-prod-\" + datetime.datetime.now().strftime(\n",
    "#     \"%Y%m%d%H%M\"\n",
    "# )\n",
    "\n",
    "# ws_basic = Workspace(\n",
    "#     name=basic_workspace_name,\n",
    "#     location=\"eastus\",\n",
    "#     display_name=\"Basic workspace-example\",\n",
    "#     description=\"This example shows how to create a basic workspace\",\n",
    "#     hbi_workspace=False,\n",
    "#     tags=dict(purpose=\"demo\"),\n",
    "# )\n",
    "\n",
    "# ws_basic = ml_client.workspaces.begin_create(ws_basic).result()\n",
    "# print(ws_basic)"
   ]
  },
  {
   "cell_type": "code",
   "execution_count": null,
   "metadata": {},
   "outputs": [],
   "source": [
    "# Basic managed network configuration\n",
    "network = ManagedNetwork(IsolationMode.ALLOW_INTERNET_OUTBOUND, )\n",
    "\n",
    "# Workspace configuration\n",
    "ws = Workspace(\n",
    "    name=\"myworkspace\",\n",
    "    location=\"eastus\",\n",
    "    managed_network=network\n",
    ")\n",
    "\n",
    "# Example private endpoint outbound to a blob\n",
    "rule_name = \"myrule\"\n",
    "service_resource_id = \"/subscriptions/<SUBSCRIPTION_ID>/resourceGroups/<RESOURCE_GROUP>/providers/Microsoft.Storage/storageAccounts/<STORAGE_ACCOUNT_NAME>\"\n",
    "subresource_target = \"blob\"\n",
    "spark_enabled = True\n",
    "\n",
    "# Add the outbound \n",
    "ws.managed_network.outbound_rules = [PrivateEndpointDestination(\n",
    "    name=rule_name, \n",
    "    service_resource_id=service_resource_id, \n",
    "    subresource_target=subresource_target, \n",
    "    spark_enabled=spark_enabled)]\n",
    "\n",
    "# Create the workspace\n",
    "ws = ml_client.workspaces.begin_create(ws).result()"
   ]
  }
 ],
 "metadata": {
  "kernelspec": {
   "display_name": "py_venv",
   "language": "python",
   "name": "python3"
  },
  "language_info": {
   "codemirror_mode": {
    "name": "ipython",
    "version": 3
   },
   "file_extension": ".py",
   "mimetype": "text/x-python",
   "name": "python",
   "nbconvert_exporter": "python",
   "pygments_lexer": "ipython3",
   "version": "3.11.4"
  },
  "orig_nbformat": 4
 },
 "nbformat": 4,
 "nbformat_minor": 2
}

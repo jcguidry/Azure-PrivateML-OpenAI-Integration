{
 "cells": [
  {
   "cell_type": "code",
   "execution_count": 1,
   "metadata": {},
   "outputs": [],
   "source": [
    "# Imports\n",
    "from azure.identity import ClientSecretCredential\n",
    "from azure.common.credentials import ServicePrincipalCredentials\n",
    "from azureml.core.authentication import ServicePrincipalAuthentication\n",
    "\n",
    "from azure.mgmt.resource import ResourceManagementClient\n",
    "from azure.mgmt.network import NetworkManagementClient\n",
    "from azure.mgmt.storage import StorageManagementClient\n",
    "from azureml.core import Workspace\n",
    "# from azure.ai.ml.entities import Workspace\n",
    "import datetime\n",
    "import yaml"
   ]
  },
  {
   "cell_type": "markdown",
   "metadata": {},
   "source": [
    "## Azure Client Authentication"
   ]
  },
  {
   "cell_type": "code",
   "execution_count": 2,
   "metadata": {},
   "outputs": [],
   "source": [
    "# Load secret keys from YAML file\n",
    "with open(\"config.yaml\", \"r\") as f:\n",
    "    config = yaml.safe_load(f)\n",
    "\n",
    "subscription_id = config.get(\"subscription_id\")\n",
    "client_id = config.get(\"client_id\")\n",
    "secret = config.get(\"secret\")\n",
    "tenant_id = config.get(\"tenant_id\")"
   ]
  },
  {
   "cell_type": "code",
   "execution_count": 3,
   "metadata": {},
   "outputs": [],
   "source": [
    "# Create `credebtial` object that holds the keys.\n",
    "\n",
    "credential = ClientSecretCredential(\n",
    "    client_id=client_id,\n",
    "    client_secret=secret,\n",
    "    tenant_id=tenant_id\n",
    ")\n",
    "\n",
    "# Authenticate to Azure Python SDK Clients\n",
    "resource_client = ResourceManagementClient(credential, subscription_id)\n",
    "network_client = NetworkManagementClient(credential, subscription_id)\n",
    "storage_client = StorageManagementClient(credential, subscription_id)\n"
   ]
  },
  {
   "cell_type": "code",
   "execution_count": 58,
   "metadata": {},
   "outputs": [],
   "source": [
    "# Configuration Parameters\n",
    "resource_group_name = 'AI_IC_NAM_GenAI-Template-2'\n",
    "location = 'eastus'\n",
    "vnet_name = 'MyVNet'\n",
    "subnet_name = 'MyPrivateSubnet'\n",
    "firewall_name = 'my_firewall'\n",
    "route_table_name = 'myRouteTable'\n",
    "aml_workspace_name = 'secureamlsdemo'\n",
    "storage_account_name = 'amlprivatestorage'\n",
    "openai_account_name = 'genai-test-openai'\n"
   ]
  },
  {
   "cell_type": "code",
   "execution_count": 6,
   "metadata": {},
   "outputs": [
    {
     "data": {
      "text/plain": [
       "<azure.mgmt.resource.resources.v2022_09_01.models._models_py3.ResourceGroup at 0x256f7b4a8d0>"
      ]
     },
     "execution_count": 6,
     "metadata": {},
     "output_type": "execute_result"
    }
   ],
   "source": [
    "# Create Resource Group\n",
    "resource_client.resource_groups.create_or_update(\n",
    "    resource_group_name,\n",
    "    {\"location\": location}\n",
    ")"
   ]
  },
  {
   "cell_type": "markdown",
   "metadata": {},
   "source": [
    "## Configure Networking Resources"
   ]
  },
  {
   "cell_type": "code",
   "execution_count": 7,
   "metadata": {},
   "outputs": [
    {
     "data": {
      "text/plain": [
       "<azure.core.polling._poller.LROPoller at 0x256f7a45410>"
      ]
     },
     "execution_count": 7,
     "metadata": {},
     "output_type": "execute_result"
    }
   ],
   "source": [
    "# Create Virtual Network\n",
    "vnet_params = {\n",
    "    'location': location,\n",
    "    'address_space': {\n",
    "        'address_prefixes': ['10.0.0.0/16']\n",
    "    }\n",
    "}\n",
    "network_client.virtual_networks.begin_create_or_update(resource_group_name, vnet_name, vnet_params)"
   ]
  },
  {
   "cell_type": "markdown",
   "metadata": {},
   "source": [
    "### Create Firewall"
   ]
  },
  {
   "cell_type": "code",
   "execution_count": null,
   "metadata": {},
   "outputs": [],
   "source": [
    "# Create a Subnet for the Firewall, within the VNet\n",
    "This subnet must be named \"AzureFirewallSubnet\"\n",
    "\n",
    "subnet_params_2 = {\n",
    "    'address_prefix': '10.0.0.0/24',\n",
    "}\n",
    "\n",
    "network_client.subnets.begin_create_or_update(\n",
    "    resource_group_name,\n",
    "    vnet_name,\n",
    "    'AzureFirewallSubnet',\n",
    "    subnet_params_2\n",
    ").result()\n",
    "\n",
    "\n",
    "# Get Subnet ID\n",
    "subnet = network_client.subnets.get(resource_group_name, vnet_name, subnet_name)\n",
    "subnet_id = subnet.id"
   ]
  },
  {
   "cell_type": "code",
   "execution_count": 9,
   "metadata": {},
   "outputs": [
    {
     "data": {
      "text/plain": [
       "<azure.mgmt.network.v2022_01_01.models._models_py3.PublicIPAddress at 0x256f7b7d550>"
      ]
     },
     "execution_count": 9,
     "metadata": {},
     "output_type": "execute_result"
    }
   ],
   "source": [
    "# Create public IP for firewall to use\n",
    "public_ip_params = {\n",
    "    \"location\": location,\n",
    "    \"sku\": {\n",
    "        \"name\": \"Standard\"\n",
    "    },\n",
    "    \"public_ip_allocation_method\": \"Static\",\n",
    "    \"public_ip_address_version\": \"IPv4\"\n",
    "}\n",
    "\n",
    "network_client.public_ip_addresses.begin_create_or_update(resource_group_name, \"myFirewallPublicIP\", public_ip_params).result()\n"
   ]
  },
  {
   "cell_type": "code",
   "execution_count": 10,
   "metadata": {},
   "outputs": [],
   "source": [
    "# Create Firewall\n",
    "firewall_params = {\n",
    "    'location': 'eastus',\n",
    "    'sku': {\n",
    "        'name': 'AZFW_VNet',\n",
    "        'tier': 'Standard',\n",
    "    },\n",
    "    'ip_configurations': [\n",
    "        {\n",
    "            'name': 'configuration',\n",
    "            'subnet': {'id': f\"/subscriptions/{subscription_id}/resourceGroups/{resource_group_name}/providers/Microsoft.Network/virtualNetworks/myVNet/subnets/AzureFirewallSubnet\"},\n",
    "            'public_ip_address': {'id': f\"/subscriptions/{subscription_id}/resourceGroups/{resource_group_name}/providers/Microsoft.Network/publicIPAddresses/myFirewallPublicIP\"},\n",
    "        }\n",
    "    ],\n",
    "    'application_rule_collections': [\n",
    "        {\n",
    "            'name': 'appRules',\n",
    "            'priority': 100,\n",
    "            'action': {\n",
    "                'type': 'Allow'\n",
    "            },\n",
    "            'rules': [\n",
    "                {\n",
    "                    'name': 'rule1',\n",
    "                    'protocols': [\n",
    "                        {\n",
    "                            'protocol_type': 'Http',\n",
    "                            'port': 80  # HTTP usually uses port 80\n",
    "                        }\n",
    "                    ],\n",
    "                    'source_addresses': ['*'],\n",
    "                    'target_fqdns': ['whitelisted.com', 'example.com'],  # Replace with your actual whitelisted domains\n",
    "                    'rule_type': 'ApplicationRule',\n",
    "                    'action': 'Allow'\n",
    "                }\n",
    "            ]\n",
    "        }\n",
    "    ]\n",
    "}\n",
    "firewall_poller = network_client.azure_firewalls.begin_create_or_update(\n",
    "    resource_group_name,\n",
    "    firewall_name,\n",
    "    firewall_params\n",
    ")\n",
    "firewall = firewall_poller.result()\n"
   ]
  },
  {
   "cell_type": "markdown",
   "metadata": {},
   "source": [
    "### Connect PrivateSubnet to Firewall w/ Route Table"
   ]
  },
  {
   "cell_type": "code",
   "execution_count": 20,
   "metadata": {},
   "outputs": [
    {
     "name": "stdout",
     "output_type": "stream",
     "text": [
      "The private IP address of the Azure Firewall is: 10.0.0.4\n"
     ]
    }
   ],
   "source": [
    "# Get Azure Firewall details\n",
    "firewall = network_client.azure_firewalls.get(resource_group_name, firewall_name)\n",
    "\n",
    "# Retrieve the private IP address\n",
    "private_ip_address = firewall.ip_configurations[0].private_ip_address if firewall.ip_configurations else None\n",
    "\n",
    "print(f\"The private IP address of the Azure Firewall is: {private_ip_address}\")"
   ]
  },
  {
   "cell_type": "code",
   "execution_count": 17,
   "metadata": {},
   "outputs": [],
   "source": [
    "\n",
    "# Create Route Table\n",
    "route_table_params = {\n",
    "    \"location\": location,\n",
    "    \"routes\": [\n",
    "        {\n",
    "            \"name\": \"myRoute\",\n",
    "            \"properties\": {\n",
    "                \"addressPrefix\": \"0.0.0.0/0\",\n",
    "                \"nextHopType\": \"VirtualAppliance\",\n",
    "                # \"nextHopIpAddress\": \"IP_ADDRESS_OF_AZURE_FIREWALL\"\n",
    "                \"nextHopIpAddress\": private_ip_address\n",
    "            }\n",
    "        }\n",
    "    ]\n",
    "}\n",
    "\n",
    "route_table = network_client.route_tables.begin_create_or_update(\n",
    "    resource_group_name, \n",
    "    route_table_name, \n",
    "    route_table_params\n",
    ").result()"
   ]
  },
  {
   "cell_type": "markdown",
   "metadata": {},
   "source": [
    "## Create Private Subnet, to connect services to"
   ]
  },
  {
   "cell_type": "code",
   "execution_count": 53,
   "metadata": {},
   "outputs": [],
   "source": [
    "# Create Private Subnet, within the VNet\n",
    "\n",
    "subnet_params = {\n",
    "    'address_prefix': '10.0.1.0/24',\n",
    "    \"route_table\": {\n",
    "    \"id\": route_table.id\n",
    "    },\n",
    "    # 'delegations': [],\n",
    "    'service_endpoints': [\n",
    "        {'service': 'Microsoft.CognitiveServices'},\n",
    "        # {\"service\": \"Microsoft.MachineLearningServices\"},\n",
    "        {\"service\": \"Microsoft.ContainerRegistry\"},\n",
    "        {\"service\": \"Microsoft.KeyVault\"},\n",
    "        {\"service\": \"Microsoft.Storage\"}\n",
    "        ]\n",
    "}\n",
    "\n",
    "network_client.subnets.begin_create_or_update(\n",
    "    resource_group_name,\n",
    "    vnet_name,\n",
    "    subnet_name,\n",
    "    subnet_params\n",
    ").result()\n",
    "\n",
    "\n",
    "# Get Subnet ID\n",
    "subnet = network_client.subnets.get(resource_group_name, vnet_name, subnet_name)\n",
    "subnet_id = subnet.id"
   ]
  },
  {
   "cell_type": "markdown",
   "metadata": {},
   "source": [
    "# Work in Progress"
   ]
  },
  {
   "cell_type": "code",
   "execution_count": null,
   "metadata": {},
   "outputs": [],
   "source": [
    "aml_workspace_name"
   ]
  },
  {
   "cell_type": "code",
   "execution_count": 55,
   "metadata": {},
   "outputs": [],
   "source": [
    "UID_str = datetime.datetime.now().strftime(\"%m%d%H%M\")\n",
    "UID_str\n",
    "\n",
    "\n",
    "deployment_name = f\"aml_workspace_vnet_deployment_{UID_str}\"\n",
    "template_uri = \"https://raw.githubusercontent.com/Azure/azure-quickstart-templates/master/quickstarts/microsoft.machinelearningservices/machine-learning-workspace-vnet/azuredeploy.json\"\n",
    "\n",
    "parameters = {\n",
    "    \"workspaceName\": {\"value\": aml_workspace_name},\n",
    "    \"location\": {\"value\": location},\n",
    "    \n",
    "    \"storageAccountOption\": {\"value\": \"new\"},\n",
    "    \"storageAccountName\": {\"value\": f\"amlstorage{UID_str}dt\"},\n",
    "    \"storageAccountBehindVNet\": {\"value\": \"true\"},\n",
    "\n",
    "    \"keyVaultOption\": {\"value\": \"new\"},\n",
    "    \"keyVaultName\": {\"value\": f\"amlkeyvault{UID_str}dt\"},\n",
    "    \"keyVaultBehindVNet\": {\"value\": \"true\"},\n",
    "\n",
    "\n",
    "    \"containerRegistryOption\": {\"value\": \"new\"},\n",
    "    \"containerRegistryName\": {\"value\": f\"amlcontregistry{UID_str}dt\"},\n",
    "    \"containerRegistrySku\": {\"value\": \"Premium\"},\n",
    "    \"containerRegistryBehindVNet\": {\"value\": \"true\"},\n",
    "    \n",
    "    \"vnetOption\": {\"value\": \"existing\"},\n",
    "    \"vnetName\": {\"value\": vnet_name},\n",
    "    \"addressPrefixes\": {\"value\": [\"10.0.0.0/16\"]},\n",
    "    \"subnetOption\": {\"value\": \"existing\"},\n",
    "    \"subnetName\": {\"value\": subnet_name},\n",
    "    \"subnetPrefix\": {\"value\": \"10.0.1.0/24\"},\n",
    "    \"privateEndpointType\": {\"value\": \"AutoApproval\"}\n",
    "}\n",
    "\n",
    "deployment_properties = {\n",
    "    \"mode\": \"Incremental\",\n",
    "    \"template_link\": {\n",
    "        \"uri\": template_uri\n",
    "    },\n",
    "    \"parameters\": parameters\n",
    "}\n",
    "\n",
    "resource_client.deployments.begin_create_or_update(\n",
    "    resource_group_name, \n",
    "    deployment_name, \n",
    "    {\"properties\": deployment_properties}\n",
    ").result()\n"
   ]
  },
  {
   "cell_type": "markdown",
   "metadata": {},
   "source": [
    "## Create private endpoint connections for the newly created resources"
   ]
  },
  {
   "cell_type": "code",
   "execution_count": 147,
   "metadata": {},
   "outputs": [],
   "source": [
    "storage_account_id = f\"/subscriptions/{subscription_id}/resourceGroups/{resource_group_name}/providers/Microsoft.Storage/storageAccounts/amlstorage{UID_str}dt\"\n",
    "keyvault_id = f\"/subscriptions/{subscription_id}/resourceGroups/{resource_group_name}/providers/Microsoft.KeyVault/vaults/amlkeyvault{UID_str}dt\"\n",
    "acr_id = f\"/subscriptions/{subscription_id}/resourceGroups/{resource_group_name}/providers/Microsoft.ContainerRegistry/registries/amlcontregistry{UID_str}dt\""
   ]
  },
  {
   "cell_type": "code",
   "execution_count": 152,
   "metadata": {},
   "outputs": [
    {
     "name": "stdout",
     "output_type": "stream",
     "text": [
      "created blob private endpoint connection to subnet\n",
      "created file private endpoint connection to subnet\n",
      "created keyvault private endpoint connection to subnet\n",
      "created container registry private endpoint connection to subnet\n"
     ]
    }
   ],
   "source": [
    "def create_private_endpoint(network_client, resource_group_name, location, subnet_id, service_name, connection_name, service_id, group_ids):\n",
    "    pe_params = {\n",
    "        \"location\": location,\n",
    "        \"subnet\": {\n",
    "            \"id\": subnet_id\n",
    "        },\n",
    "        \"private_link_service_connections\": [{\n",
    "            \"name\": connection_name,\n",
    "            \"private_link_service_id\": service_id,\n",
    "            \"group_ids\": group_ids\n",
    "        }]\n",
    "    }\n",
    "    return network_client.private_endpoints.begin_create_or_update(\n",
    "        resource_group_name,\n",
    "        service_name,\n",
    "        pe_params\n",
    "    ).result()\n",
    "\n",
    "\n",
    "# Creating storage blob private endpoint\n",
    "storage_pe_blob = create_private_endpoint(network_client, resource_group_name, location, subnet_id, \"StoragePrivateEndpoint_Blob\", \"StorageAccountConnection_Blob\", storage_account_id, [\"blob\"])\n",
    "print('created blob private endpoint connection to subnet')\n",
    "\n",
    "# Creating storage file private endpoint\n",
    "storage_pe_file = create_private_endpoint(network_client, resource_group_name, location, subnet_id, \"StoragePrivateEndpoint_File\", \"StorageAccountConnection_File\", storage_account_id, [\"file\"])\n",
    "print('created file private endpoint connection to subnet')\n",
    "\n",
    "# Creating key vault private endpoint\n",
    "keyvault_pe = create_private_endpoint(network_client, resource_group_name, location, subnet_id, \"KeyVaultPrivateEndpoint\", \"KeyVaultConnection\", keyvault_id, [\"vault\"])\n",
    "print('created keyvault private endpoint connection to subnet')\n",
    "\n",
    "# Creating container registry private endpoint\n",
    "acr_pe = create_private_endpoint(network_client, resource_group_name, location, subnet_id, \"ContainerRegistryPrivateEndpoint\", \"ContainerRegistryConnection\", acr_id, [\"registry\"])\n",
    "print('created container registry private endpoint connection to subnet')\n"
   ]
  },
  {
   "cell_type": "code",
   "execution_count": 156,
   "metadata": {},
   "outputs": [],
   "source": [
    "# from azure.identity import DefaultAzureCredential\n",
    "# from azure.mgmt.network import NetworkManagementClient\n",
    "# from azure.mgmt.network.models import VirtualNetworkGateway, VirtualNetworkGatewayIPConfiguration, SubResource, IpAllocationMethod\n"
   ]
  },
  {
   "cell_type": "code",
   "execution_count": 157,
   "metadata": {},
   "outputs": [],
   "source": [
    "# subnet = network_client.subnets.get(resource_group_name, vnet_name, subnet_name)\n",
    "# public_ip = network_client.public_ip_addresses.get(resource_group_name, public_ip_name) # myFirewallPublicIP\n"
   ]
  },
  {
   "cell_type": "code",
   "execution_count": 115,
   "metadata": {},
   "outputs": [],
   "source": [
    "params = VirtualNetworkGateway(\n",
    "    location=location,\n",
    "    gateway_type=\"Vpn\",\n",
    "    vpn_type=\"RouteBased\",\n",
    "    enable_bgp=False,\n",
    "    ip_configurations=[ip_config],\n",
    "    sku={\"name\": \"VpnGw1\"}\n",
    "    vpn_gateway_generation=\"Generation2\"\n",
    ")\n",
    "\n",
    "network_client.virtual_network_gateways.begin_create_or_update(resource_group_name, gateway_name, params).result()\n"
   ]
  },
  {
   "cell_type": "code",
   "execution_count": null,
   "metadata": {},
   "outputs": [],
   "source": []
  }
 ],
 "metadata": {
  "kernelspec": {
   "display_name": "py_venv",
   "language": "python",
   "name": "python3"
  },
  "language_info": {
   "codemirror_mode": {
    "name": "ipython",
    "version": 3
   },
   "file_extension": ".py",
   "mimetype": "text/x-python",
   "name": "python",
   "nbconvert_exporter": "python",
   "pygments_lexer": "ipython3",
   "version": "3.11.4"
  },
  "orig_nbformat": 4
 },
 "nbformat": 4,
 "nbformat_minor": 2
}
